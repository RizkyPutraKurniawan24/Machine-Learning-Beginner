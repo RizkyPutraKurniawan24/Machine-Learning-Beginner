{
 "cells": [
  {
   "cell_type": "markdown",
   "id": "2de148a8",
   "metadata": {},
   "source": [
    "# Coba Jupyter"
   ]
  },
  {
   "cell_type": "code",
   "execution_count": 1,
   "id": "b7990868",
   "metadata": {},
   "outputs": [
    {
     "data": {
      "text/plain": [
       "2"
      ]
     },
     "execution_count": 1,
     "metadata": {},
     "output_type": "execute_result"
    }
   ],
   "source": [
    "1 + 1"
   ]
  },
  {
   "cell_type": "markdown",
   "id": "c6c30870",
   "metadata": {},
   "source": [
    "## Ini adalah heading 2"
   ]
  },
  {
   "cell_type": "code",
   "execution_count": 2,
   "id": "20feccf7",
   "metadata": {},
   "outputs": [
    {
     "data": {
      "text/plain": [
       "15"
      ]
     },
     "execution_count": 2,
     "metadata": {},
     "output_type": "execute_result"
    }
   ],
   "source": [
    "3 * 5"
   ]
  },
  {
   "cell_type": "markdown",
   "id": "51b12937",
   "metadata": {},
   "source": [
    "### Ini adalah heading 3"
   ]
  },
  {
   "cell_type": "code",
   "execution_count": 3,
   "id": "9e06d955",
   "metadata": {},
   "outputs": [
    {
     "data": {
      "text/plain": [
       "49"
      ]
     },
     "execution_count": 3,
     "metadata": {},
     "output_type": "execute_result"
    }
   ],
   "source": [
    "7**2"
   ]
  },
  {
   "cell_type": "markdown",
   "id": "0597c0d1",
   "metadata": {},
   "source": [
    "#### Ini heading 4"
   ]
  },
  {
   "cell_type": "code",
   "execution_count": 4,
   "id": "8653b4d5",
   "metadata": {},
   "outputs": [
    {
     "data": {
      "text/plain": [
       "2.5"
      ]
     },
     "execution_count": 4,
     "metadata": {},
     "output_type": "execute_result"
    }
   ],
   "source": [
    "5/2"
   ]
  },
  {
   "cell_type": "code",
   "execution_count": null,
   "id": "08370910",
   "metadata": {},
   "outputs": [],
   "source": []
  }
 ],
 "metadata": {
  "kernelspec": {
   "display_name": "Python 3 (ipykernel)",
   "language": "python",
   "name": "python3"
  },
  "language_info": {
   "codemirror_mode": {
    "name": "ipython",
    "version": 3
   },
   "file_extension": ".py",
   "mimetype": "text/x-python",
   "name": "python",
   "nbconvert_exporter": "python",
   "pygments_lexer": "ipython3",
   "version": "3.9.16"
  }
 },
 "nbformat": 4,
 "nbformat_minor": 5
}
